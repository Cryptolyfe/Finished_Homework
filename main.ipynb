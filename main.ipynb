{
 "cells": [
  {
   "cell_type": "code",
   "execution_count": 1,
   "id": "35452b7f-6993-4713-9004-66468b3d1209",
   "metadata": {},
   "outputs": [],
   "source": [
    "import csv\n",
    "from pathlib import Path\n",
    "import pathlib"
   ]
  },
  {
   "cell_type": "code",
   "execution_count": 2,
   "id": "7e59dd35-e7ab-4c92-9d1e-d7896796dd4c",
   "metadata": {},
   "outputs": [],
   "source": [
    "csvpath = Path(\"budget_data.csv\")"
   ]
  },
  {
   "cell_type": "code",
   "execution_count": 3,
   "id": "9a92e869-ee46-4c6e-bff8-af7a7b425fd1",
   "metadata": {},
   "outputs": [],
   "source": [
    "change = []\n",
    "prev_value = 0"
   ]
  },
  {
   "cell_type": "code",
   "execution_count": 4,
   "id": "11aac747-c92d-4053-aef8-e7d947674c9a",
   "metadata": {},
   "outputs": [],
   "source": [
    "Dates = None\n",
    "\n",
    "total_months = 0\n",
    "average_change = 0\n",
    "greatest_increase_profit = 0\n",
    "greatest_decrease_profit = 0\n",
    "\n"
   ]
  },
  {
   "cell_type": "code",
   "execution_count": null,
   "id": "51616402-a115-40f8-aed8-a47de9e85c3b",
   "metadata": {},
   "outputs": [],
   "source": [
    "dates = input(\" Enter A Date\")\n",
    "with open (csvpath, mode='r') as csvfile:\n",
    "    csvreader = csv.reader(csvfile, delimiter=\",\")\n",
    "    csv_header = next(csvreader)\n",
    "    for row in csvreader:\n",
    "        \n",
    "        if prev_value == 0:\n",
    "            prev_value = int(row[1])\n",
    "        else:\n",
    "            #print(f\"previous value is {prev_value}\")\n",
    "            #print(f\"current value is {row[1]}\")\n",
    "            change.append(int(row[1]) - int(prev_value))\n",
    "            prev_value = int(row[1])\n",
    "            \n",
    "        \n",
    "        \n",
    "            "
   ]
  },
  {
   "cell_type": "code",
   "execution_count": null,
   "id": "52220ff6-febc-4000-bbcd-31daf3cc3a2b",
   "metadata": {},
   "outputs": [],
   "source": [
    "out_path = Path(\"output.txt\")\n",
    "with open(out_path, \"w\") as txt_file:\n",
    "    txt_file.write(\"------------- bank records ----------------\\n\")\n",
    "    txt_file.write(f\"Total number of months in dataset is [len(Dates[0])]\\n\")\n",
    "    txt_file.write(f\"Average change in dataset is [len(Dates[0])]\\n\")"
   ]
  },
  {
   "cell_type": "code",
   "execution_count": null,
   "id": "0961d148-d97a-4747-a4db-737f2348d89e",
   "metadata": {},
   "outputs": [],
   "source": [
    "change"
   ]
  },
  {
   "cell_type": "code",
   "execution_count": null,
   "id": "8e86b81a-71ff-43a7-95e6-7856491b16fa",
   "metadata": {},
   "outputs": [],
   "source": [
    "sum(change)/len(change)"
   ]
  }
 ],
 "metadata": {
  "kernelspec": {
   "display_name": "Python 3",
   "language": "python",
   "name": "python3"
  },
  "language_info": {
   "codemirror_mode": {
    "name": "ipython",
    "version": 3
   },
   "file_extension": ".py",
   "mimetype": "text/x-python",
   "name": "python",
   "nbconvert_exporter": "python",
   "pygments_lexer": "ipython3",
   "version": "3.7.10"
  }
 },
 "nbformat": 4,
 "nbformat_minor": 5
}
